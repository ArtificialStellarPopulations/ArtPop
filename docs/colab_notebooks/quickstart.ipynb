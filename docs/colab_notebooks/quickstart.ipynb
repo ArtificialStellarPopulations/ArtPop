{
 "cells": [
  {
   "cell_type": "markdown",
   "metadata": {},
   "source": [
    "# Quick Start \n",
    "\n",
    "This tutorial is designed to let you quickly see **ArtPop** in action. For a deeper dive into each of the components of the code, we recommend stepping through the [list of tutorials](../index.rst#Tutorials) on the home page.\n",
    "\n",
    "**Note:** To generate MIST synthetic photometry using **ArtPop**, [MIST isochrone grids](../getting_started/mist.rst) are required. The first time you use a MIST grid, **ArtPop** will download it and save it to your `MIST_PATH`. If this environmental variable is not set, the grid(s) will be saved in `~/.artpop/mist`."
   ]
  },
  {
   "cell_type": "markdown",
   "metadata": {},
   "source": [
    "### Step 0: Install ArtPop and its dependencies"
   ]
  },
  {
   "cell_type": "code",
   "execution_count": null,
   "metadata": {},
   "outputs": [],
   "source": [
    "!pip install artpop"
   ]
  },
  {
   "cell_type": "code",
   "execution_count": null,
   "metadata": {},
   "outputs": [],
   "source": [
    "# Third-party imports\n",
    "import numpy as np\n",
    "import matplotlib.pyplot as plt\n",
    "from astropy import units as u\n",
    "from astropy.visualization import make_lupton_rgb\n",
    "\n",
    "# Project import\n",
    "import artpop\n",
    "\n",
    "# artpop's matplotlib style\n",
    "plt.style.use(artpop.mpl_style)\n",
    "\n",
    "# use this random state for reproducibility\n",
    "rng = np.random.RandomState(100)"
   ]
  },
  {
   "cell_type": "markdown",
   "metadata": {},
   "source": [
    "To create an artificial image, there are three main steps:\n",
    "\n",
    "- Create a [Source](../api/artpop.source.Source.rst) object, which requires stellar magnitudes and positions.\n",
    "- Initialize an ``Imager`` object, which can be an [IdealImager](../api/artpop.image.IdealImager.rst) or [ArtImager](../api/artpop.image.ArtImager.rst).\n",
    "- Mock observe the ``source`` using the ``observe`` method."
   ]
  },
  {
   "cell_type": "markdown",
   "metadata": {},
   "source": [
    "### Step 1: Create a Source\n",
    "\n",
    "Here we create an SSP with a Sersic distribution using the helper [MISTSersicSSP](../api/artpop.source.MISTSersicSSP.rst) class:"
   ]
  },
  {
   "cell_type": "code",
   "execution_count": null,
   "metadata": {},
   "outputs": [],
   "source": [
    "# create young, metal poor SSP source at 5 Mpc\n",
    "src = artpop.MISTSersicSSP(\n",
    "    log_age = 8.5,        # log of age in years\n",
    "    feh = -1.5,           # metallicity [Fe/H]\n",
    "    r_eff = 250 * u.pc,   # effective radius\n",
    "    n = 0.8,              # Sersic index\n",
    "    theta = 135 * u.deg,  # position angle\n",
    "    ellip = 0.3,          # ellipticity\n",
    "    num_stars = 1e6,      # number of stars\n",
    "    phot_system = 'LSST', # photometric system \n",
    "    distance = 5 * u.Mpc, # distance to system \n",
    "    xy_dim = 701,         # image dimension\n",
    "    pixel_scale = 0.2,    # pixel scale in arcsec / pixel\n",
    "    random_state = rng,   # random state for reproducibility\n",
    ")"
   ]
  },
  {
   "cell_type": "markdown",
   "metadata": {},
   "source": [
    "### Step 2: Create an Imager\n",
    "\n",
    "Let's use the [ArtImager](../api/artpop.image.ArtImager.rst), which creates fully artificial images taking the instrument and sky properties into account to calculate the noise."
   ]
  },
  {
   "cell_type": "code",
   "execution_count": null,
   "metadata": {},
   "outputs": [],
   "source": [
    "# instantiate an imager object\n",
    "imager = artpop.ArtImager(\n",
    "    phot_system = 'LSST', # photometric system\n",
    "    diameter = 6.4 * u.m, # effective aperture diameter\n",
    "    read_noise = 4,       # read noise in electrons\n",
    "    random_state = rng    # random state for reproducibility \n",
    ")"
   ]
  },
  {
   "cell_type": "markdown",
   "metadata": {},
   "source": [
    "### Step 3: Observe\n",
    "\n",
    "Finally, we mock observe the source using ``ArtImager``'s [observe](../api/artpop.image.IdealImager.rst#artpop.image.IdealImager.observe) method. We'll use astropy's [make_lupton_rgb](https://docs.astropy.org/en/stable/api/astropy.visualization.make_lupton_rgb.html) function to make a pretty color image, which we will display using **ArtPop**'s [show_image](../api/artpop.viz.show_image.rst) function:"
   ]
  },
  {
   "cell_type": "code",
   "execution_count": null,
   "metadata": {},
   "outputs": [],
   "source": [
    "# PSF with 0.6'' seeing\n",
    "psf = artpop.moffat_psf(fwhm=0.6*u.arcsec)\n",
    "\n",
    "# observe in gri (assuming the same seeing in all bands)\n",
    "obs_g = imager.observe(\n",
    "    source = src,         # source object\n",
    "    bandpass = 'LSST_g',  # bandpass of observation\n",
    "    exptime = 15 * u.min, # exposure time \n",
    "    sky_sb = 22,          # sky surface brightness\n",
    "    psf = psf             # point spread function \n",
    ")\n",
    "obs_r = imager.observe(src, 'LSST_r', 15 * u.min, sky_sb=21, psf=psf)\n",
    "obs_i = imager.observe(src, 'LSST_i', 30 * u.min, sky_sb=20, psf=psf)\n",
    "\n",
    "rgb = make_lupton_rgb(obs_i.image, obs_r.image, obs_g.image, stretch=0.4)\n",
    "\n",
    "artpop.show_image(rgb);"
   ]
  }
 ],
 "metadata": {
  "kernelspec": {
   "display_name": "Python 3",
   "language": "python",
   "name": "python3"
  },
  "language_info": {
   "codemirror_mode": {
    "name": "ipython",
    "version": 3
   },
   "file_extension": ".py",
   "mimetype": "text/x-python",
   "name": "python",
   "nbconvert_exporter": "python",
   "pygments_lexer": "ipython3",
   "version": "3.6.13"
  }
 },
 "nbformat": 4,
 "nbformat_minor": 4
}
