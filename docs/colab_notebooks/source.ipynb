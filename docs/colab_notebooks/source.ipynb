{
 "cells": [
  {
   "cell_type": "markdown",
   "metadata": {},
   "source": [
    "# Artificial Source Objects\n",
    "\n",
    "To generate synthetic images, **ArtPop** \"observes\" [Source](https://artpop.readthedocs.io/en/latest/api/artpop.source.Source.html) objects. In essence, ``Source`` objects are containers that hold the ``xy`` pixel positions and stellar ``mags`` of the artificial stellar population.  As we showed in the [Building Stellar Populations](https://artpop.readthedocs.io/en/latest/tutorials/pops.html) and [Sampling Spatial Distributions](https://artpop.readthedocs.io/en/latest/tutorials/spatial.html) tutorials, **ArtPop** has the capability to generate these parameters, but you can generate them in _any_ way you want (i.e., independently from **ArtPop**). You just need to make sure to create ``xy`` and ``mags`` in the correct format to initialize the [Source](https://artpop.readthedocs.io/en/latest/api/artpop.source.Source.html).\n",
    "\n",
    "**Note:** To generate MIST synthetic photometry using **ArtPop**, [MIST isochrone grids](https://artpop.readthedocs.io/en/latest/getting_started/mist.html) are required. The first time you use a MIST grid, **ArtPop** will download it and save it to your `MIST_PATH`. If this environmental variable is not set, the grid(s) will be saved in `~/.artpop/mist`."
   ]
  },
  {
   "cell_type": "markdown",
   "metadata": {},
   "source": [
    "### Install ArtPop and its dependencies"
   ]
  },
  {
   "cell_type": "code",
   "execution_count": null,
   "metadata": {},
   "outputs": [],
   "source": [
    "!pip install artpop"
   ]
  },
  {
   "cell_type": "code",
   "execution_count": null,
   "metadata": {},
   "outputs": [],
   "source": [
    "# Third-party imports \n",
    "import numpy as np\n",
    "import matplotlib.pyplot as plt\n",
    "from astropy import units as u   \n",
    "\n",
    "# Project import\n",
    "import artpop\n",
    "\n",
    "# artpop's matplotlib style\n",
    "plt.style.use(artpop.mpl_style)\n",
    "\n",
    "# use this random state for reproducibility\n",
    "rng = np.random.RandomState(9)"
   ]
  },
  {
   "cell_type": "markdown",
   "metadata": {},
   "source": [
    "## Building a Source Object\n",
    "\n",
    "In this first example, we will show you how to build a ``Source`` object from scratch. We'll assume a uniform distribution of stars at fixed surface brightness. We start by creating a simple stellar population (SSP), which we will use to calculate the mean stellar magnitude of the population:"
   ]
  },
  {
   "cell_type": "code",
   "execution_count": null,
   "metadata": {},
   "outputs": [],
   "source": [
    "# Here we use total_mass instead of num_stars, \n",
    "# one of which is required. We use a relatively \n",
    "# large mass to ensure we fully sample the imf.\n",
    "ssp = artpop.MISTSSP(\n",
    "    log_age = 9,          # log of age in years\n",
    "    feh = -1,             # metallicity [Fe/H]\n",
    "    phot_system = 'LSST', # photometric system(s)\n",
    "    total_mass = 1e6,     # total mass (in solar masses)\n",
    "    imf = 'kroupa',       # default imf\n",
    "    random_state = rng,   # random state for reproducibility\n",
    ")"
   ]
  },
  {
   "cell_type": "markdown",
   "metadata": {},
   "source": [
    "Next we use the [constant_sb_stars_per_pix](https://artpop.readthedocs.io/en/latest/api/artpop.stars.constant_sb_stars_per_pix.html) function to calculate the number of stars this population would have for a given surface brightness and distance (let's put the population at 10 Mpc):"
   ]
  },
  {
   "cell_type": "code",
   "execution_count": null,
   "metadata": {},
   "outputs": [],
   "source": [
    "distance = 10 * u.Mpc\n",
    "\n",
    "num_stars_per_pix = artpop.constant_sb_stars_per_pix(\n",
    "    sb = 24,                           # surface brightness\n",
    "    mean_mag = ssp.mean_mag('LSST_i'), # mean stellar magnitude\n",
    "    distance = distance,               # distance to system\n",
    "    pixel_scale = 0.2                  # pixel scale in arcsec/pixel\n",
    ")\n",
    "\n",
    "print(f'number of stars per pixel = {num_stars_per_pix:.2f}')"
   ]
  },
  {
   "cell_type": "markdown",
   "metadata": {},
   "source": [
    "Let's say we intend to create an artificial image that is 101 pixels on a side. Then we can calculate the number of pixels, and hence number of stars, in our image."
   ]
  },
  {
   "cell_type": "code",
   "execution_count": null,
   "metadata": {},
   "outputs": [],
   "source": [
    "xy_dim = (101, 101)\n",
    "num_stars = int(np.multiply(*xy_dim) * num_stars_per_pix)\n",
    "print(f'number of stars = {num_stars:.0e}')"
   ]
  },
  {
   "cell_type": "markdown",
   "metadata": {},
   "source": [
    "Putting the pieces together, we sample ``num_stars`` stellar magnitudes and positions to build our ``Source`` object:"
   ]
  },
  {
   "cell_type": "code",
   "execution_count": null,
   "metadata": {},
   "outputs": [],
   "source": [
    "# build SSP with num_stars stars\n",
    "ssp = artpop.MISTSSP(\n",
    "    log_age = 9,           # log of age in years\n",
    "    feh = -1,              # metallicity [Fe/H]\n",
    "    phot_system = 'LSST',  # photometric system(s)\n",
    "    num_stars = num_stars, # number of stars\n",
    "    imf = 'kroupa',        # default imf\n",
    "    distance = distance,   # distance to system\n",
    "    random_state = rng,    # random state for reproducibility\n",
    ")\n",
    "\n",
    "# sample num_stars positions in a uniform grid\n",
    "xy = np.vstack([rng.uniform(0, xy_dim[0], num_stars), \n",
    "                rng.uniform(0, xy_dim[1], num_stars)]).T\n",
    "\n",
    "# create the artificial source\n",
    "src = artpop.Source(xy, ssp.mag_table, xy_dim)"
   ]
  },
  {
   "cell_type": "markdown",
   "metadata": {},
   "source": [
    "Note ``ssp`` has an attribute called ``mag_table``, which is an ``astropy`` table with stellar magnitudes in the given photometric system(s), which is passed as an argument to ``Source`` and stored as the ``mags`` attribute:"
   ]
  },
  {
   "cell_type": "code",
   "execution_count": null,
   "metadata": {},
   "outputs": [],
   "source": [
    "# here are the first 10 rows of the table\n",
    "# each row corresponds to a single star\n",
    "src.mags[:10]"
   ]
  },
  {
   "cell_type": "markdown",
   "metadata": {},
   "source": [
    "The ``src`` object contains all the information we need to simulate an observation of the artificial source, which is described in the [Making Artificial Images](https://artpop.readthedocs.io/en/latest/tutorials/artimages.html) tutorial. \n",
    "\n",
    "\n",
    "Here's a look at the positions and $i$-band magnitudes of a random subset of the stars in ``src``:"
   ]
  },
  {
   "cell_type": "code",
   "execution_count": null,
   "metadata": {},
   "outputs": [],
   "source": [
    "idx = rng.choice(np.arange(src.num_stars), 5000, replace=False)\n",
    "plt.scatter(src.x[idx], src.y[idx], s=4, \n",
    "            c=src.mags['LSST_i'][idx], cmap='magma')\n",
    "\n",
    "cbar = plt.colorbar()\n",
    "cbar.ax.set_ylabel('$m_i$')\n",
    "plt.xlabel('$x$ [pixel]')\n",
    "plt.ylabel('$y$ [pixel]')\n",
    "plt.title(f'SSP at {distance:.0f}')\n",
    "plt.minorticks_on();"
   ]
  },
  {
   "cell_type": "markdown",
   "metadata": {},
   "source": [
    "As a sanity check, we can calculate the surface brightness of the population:"
   ]
  },
  {
   "cell_type": "code",
   "execution_count": null,
   "metadata": {},
   "outputs": [],
   "source": [
    "total_flux = (10**(-0.4 * src.mags['LSST_i'])).sum()\n",
    "area = (101 * 0.2)**2\n",
    "sb = -2.5 * np.log10(total_flux / area)\n",
    "print(f'SB = {sb:.2f} mag / arcsec^2')"
   ]
  },
  {
   "cell_type": "markdown",
   "metadata": {},
   "source": [
    "## Helper SSP Source Objects\n",
    "\n",
    "For convenience, **ArtPop** provides objects for generating SSP + spatial distribution combinations. Here we generate an SSP with a uniform spatial distribution, similar to above, using the [MISTUniformSSP](https://artpop.readthedocs.io/en/latest/api/artpop.source.MISTUniformSSP.html) helper SSP class:"
   ]
  },
  {
   "cell_type": "code",
   "execution_count": null,
   "metadata": {},
   "outputs": [],
   "source": [
    "# let's put the population at 5 Mpc\n",
    "distance = 5 * u.Mpc\n",
    "\n",
    "# create ssp distributed uniformly in space\n",
    "src_uniform = artpop.MISTUniformSSP(\n",
    "    log_age = 9,          # log of age in years\n",
    "    feh = -1,             # metallicity [Fe/H]\n",
    "    phot_system = 'LSST', # photometric system(s) \n",
    "    distance = distance,  # distance to system \n",
    "    xy_dim = 101,         # image dimension (101, 101)\n",
    "    pixel_scale = 0.2,    # pixel scale in arcsec / pixel\n",
    "    sb = 24,              # surface brightness (SB)\n",
    "    sb_band='LSST_i',     # bandpass to calculate the SB\n",
    "    random_state = rng,   # random state for reproducibility    \n",
    ")\n",
    "\n",
    "# plot positions with symbols colored by i-band mags\n",
    "idx = rng.choice(np.arange(src_uniform.num_stars), 5000, replace=False)\n",
    "plt.scatter(src_uniform.x[idx], src_uniform.y[idx], s=4, \n",
    "            c=src_uniform.mags['LSST_i'][idx], cmap='magma')\n",
    "\n",
    "cbar = plt.colorbar()\n",
    "cbar.ax.set_ylabel('$m_i$')\n",
    "plt.xlabel('$x$ [pixel]')\n",
    "plt.ylabel('$y$ [pixel]')\n",
    "plt.title(f'SSP at {distance:.0f}')\n",
    "plt.minorticks_on();"
   ]
  },
  {
   "cell_type": "markdown",
   "metadata": {},
   "source": [
    "## Composite Sources\n",
    "\n",
    "Similar to [creating composite stellar populations](https://artpop.readthedocs.io/en/latest/tutorials/pops.html#Composite-Stellar-Populations), composite ``Source`` objects are created intuitively using the ``+`` operator. Here we'll use [MISTPlummerSSP](https://artpop.readthedocs.io/en/latest/api/artpop.source.MISTPlummerSSP.html) to create an SSP with a Plummer spatial distribution and add it to the uniformly distributed population we created above:"
   ]
  },
  {
   "cell_type": "code",
   "execution_count": null,
   "metadata": {},
   "outputs": [],
   "source": [
    "# create ssp distributed uniformly in space\n",
    "src_plummer = artpop.MISTPlummerSSP(\n",
    "    log_age = 10.1,           # log of age in years\n",
    "    feh = -1.5,               # metallicity [Fe/H]\n",
    "    scale_radius = 20 * u.pc, # effective radius\n",
    "    num_stars = 5e5,          # number of stars\n",
    "    phot_system = 'LSST',     # photometric system(s) \n",
    "    distance = distance,      # distance to system \n",
    "    xy_dim = 101,             # image dimension (101, 101)\n",
    "    pixel_scale = 0.2,    # pixel scale in arcsec / pixel\n",
    "    random_state = rng,       # random state for reproducibility\n",
    ")\n",
    "\n",
    "# add sources together\n",
    "composite_src = src_uniform + src_plummer\n",
    "\n",
    "# plot positions with symbols colored by i-band mags\n",
    "idx = rng.choice(np.arange(composite_src.num_stars), int(1e4), replace=False)\n",
    "plt.scatter(composite_src.x[idx], composite_src.y[idx], s=2, \n",
    "            c=composite_src.mags['LSST_i'][idx], cmap='magma')\n",
    "\n",
    "cbar = plt.colorbar()\n",
    "cbar.ax.set_ylabel('$m_i$')\n",
    "plt.xlabel('$x$ [pixel]')\n",
    "plt.ylabel('$y$ [pixel]')\n",
    "plt.title(f'SSP at {distance:.0f}')\n",
    "plt.minorticks_on();"
   ]
  }
 ],
 "metadata": {
  "kernelspec": {
   "display_name": "Python 3",
   "language": "python",
   "name": "python3"
  },
  "language_info": {
   "codemirror_mode": {
    "name": "ipython",
    "version": 3
   },
   "file_extension": ".py",
   "mimetype": "text/x-python",
   "name": "python",
   "nbconvert_exporter": "python",
   "pygments_lexer": "ipython3",
   "version": "3.6.13"
  }
 },
 "nbformat": 4,
 "nbformat_minor": 4
}
