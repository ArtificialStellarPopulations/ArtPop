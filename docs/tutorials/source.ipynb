{
 "cells": [
  {
   "cell_type": "markdown",
   "metadata": {},
   "source": [
    "# Artificial Source Objects\n",
    "\n",
    "**ArtPop** mock observes [Source](../api/artpop.source.Source.rst) objects. In essence, ``Source`` objects are containers that hold the ``xy`` pixel positions and stellar ``mags`` of the artificial stellar population."
   ]
  },
  {
   "cell_type": "code",
   "execution_count": 1,
   "metadata": {},
   "outputs": [],
   "source": [
    "# Third-party imports \n",
    "import numpy as np\n",
    "import matplotlib.pyplot as plt\n",
    "from astropy import units as u   \n",
    "\n",
    "# Project import\n",
    "import artpop\n",
    "\n",
    "# artpop's matplotlib style\n",
    "plt.style.use(artpop.mpl_style)\n",
    "\n",
    "# use this random state for reproducibility\n",
    "rng = np.random.RandomState(9)"
   ]
  },
  {
   "cell_type": "markdown",
   "metadata": {},
   "source": [
    "In this tutorial, we will show you how to use **ArtPop** ``xy`` positions and ``mags`` to create a ``Source`` objects, but note you can generate these parameters using any source you want. "
   ]
  },
  {
   "cell_type": "markdown",
   "metadata": {},
   "source": [
    "## Constant Surface Brightness\n",
    "\n",
    "In this first example, we will generate a uniform distribution of stars at fixed surface brightness. We start by creating a simple stellar population (SSP), which we will use to calculate the mean stellar magnitude of the population:"
   ]
  },
  {
   "cell_type": "code",
   "execution_count": 2,
   "metadata": {},
   "outputs": [],
   "source": [
    "# Here we use total_mass instead of num_stars, \n",
    "# one of which is required. We use a relatively \n",
    "# large mass to ensure we fully sample the imf.\n",
    "ssp = artpop.SSP(\n",
    "    log_age = 9,           # log of age in years\n",
    "    feh = -1,              # metallicity [Fe/H]\n",
    "    phot_system = 'LSST',  # photometric system(s)\n",
    "    total_mass = 1e6,      # total mass (in solar masses)\n",
    "    imf = 'kroupa',        # default imf\n",
    "    random_state = rng,    # random state for reproducibility\n",
    ")"
   ]
  },
  {
   "cell_type": "markdown",
   "metadata": {},
   "source": [
    "Next we use the [constant_sb_stars_per_pix](../api/artpop.stars.constant_sb_stars_per_pix.rst) function to calculate the number of stars this population would have for a given surface brightness and distance:"
   ]
  },
  {
   "cell_type": "code",
   "execution_count": 3,
   "metadata": {},
   "outputs": [
    {
     "name": "stdout",
     "output_type": "stream",
     "text": [
      "number of stars per pixel = 495.20\n"
     ]
    }
   ],
   "source": [
    "num_stars_per_pix = artpop.constant_sb_stars_per_pix(\n",
    "    sb = 24,                            # surface brightness\n",
    "    mean_mag = ssp.mean_mag('LSST_i'),  # mean stellar magnitude\n",
    "    distance = 10 * u.Mpc,              # distance to system\n",
    "    pixel_scale = 0.2                   # pixel scale in arcsec/pixel\n",
    ")\n",
    "\n",
    "print(f'number of stars per pixel = {num_stars_per_pix:.2f}')"
   ]
  },
  {
   "cell_type": "markdown",
   "metadata": {},
   "source": [
    "Let's say we intend to create an artificial image that is 200 pixels on a side."
   ]
  },
  {
   "cell_type": "markdown",
   "metadata": {},
   "source": [
    "## SersicSSP"
   ]
  },
  {
   "cell_type": "code",
   "execution_count": null,
   "metadata": {},
   "outputs": [],
   "source": []
  },
  {
   "cell_type": "markdown",
   "metadata": {},
   "source": [
    "## PlummerSSP"
   ]
  },
  {
   "cell_type": "code",
   "execution_count": null,
   "metadata": {},
   "outputs": [],
   "source": []
  }
 ],
 "metadata": {
  "kernelspec": {
   "display_name": "Python 3",
   "language": "python",
   "name": "python3"
  },
  "language_info": {
   "codemirror_mode": {
    "name": "ipython",
    "version": 3
   },
   "file_extension": ".py",
   "mimetype": "text/x-python",
   "name": "python",
   "nbconvert_exporter": "python",
   "pygments_lexer": "ipython3",
   "version": "3.6.10"
  }
 },
 "nbformat": 4,
 "nbformat_minor": 4
}
