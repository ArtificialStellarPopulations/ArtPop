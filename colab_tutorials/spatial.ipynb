{
 "cells": [
  {
   "cell_type": "markdown",
   "metadata": {},
   "source": [
    "# Sampling Spatial Distributions\n",
    "\n",
    "To make an artificial image of a stellar system, you need the fluxes of the stars _and_ their spatial positions. In the [Building Stellar Populations](https://artpop.readthedocs.io/en/latest/tutorials/pops.html) tutorial, we showed how to use **ArtPop** to generate stellar magnitudes. In this tutorial, we demonstrate how to sample spatial positions. At the moment, **ArtPop** provides functions for sampling the [Plummer](https://artpop.readthedocs.io/en/latest/api/artpop.space.plummer_xy.html), [Sersic](https://artpop.readthedocs.io/en/latest/api/artpop.space.sersic_xy.html), and [uniform](https://artpop.readthedocs.io/en/latest/api/artpop.space.uniform_xy.html) distributions."
   ]
  },
  {
   "cell_type": "markdown",
   "metadata": {},
   "source": [
    "### Install ArtPop and its dependencies"
   ]
  },
  {
   "cell_type": "code",
   "execution_count": null,
   "metadata": {},
   "outputs": [],
   "source": [
    "!pip install artpop"
   ]
  },
  {
   "cell_type": "code",
   "execution_count": null,
   "metadata": {},
   "outputs": [],
   "source": [
    "# Third-party imports\n",
    "import numpy as np\n",
    "import matplotlib.pyplot as plt\n",
    "from astropy import units as u\n",
    "\n",
    "# Project import\n",
    "import artpop\n",
    "\n",
    "# artpop's matplotlib style\n",
    "plt.style.use(artpop.mpl_style)\n",
    "\n",
    "# use this random state for reproducibility\n",
    "rng = np.random.RandomState(9)"
   ]
  },
  {
   "cell_type": "markdown",
   "metadata": {},
   "source": [
    "## The Plummer Distribution"
   ]
  },
  {
   "cell_type": "markdown",
   "metadata": {},
   "source": [
    "The Plummer distribution is sampled using [inverse transform sampling](https://en.wikipedia.org/wiki/Inverse_transform_sampling). To generate ``xy`` pixel positions that are distributed according to a Plummer distribution, use the [plummer_xy](https://artpop.readthedocs.io/en/latest/api/artpop.space.plummer_xy.html) function:"
   ]
  },
  {
   "cell_type": "code",
   "execution_count": null,
   "metadata": {},
   "outputs": [],
   "source": [
    "# keyword arguments for the plummer function\n",
    "kws = dict(\n",
    "    num_stars = 1e4,          # number of stars\n",
    "    scale_radius = 50 * u.pc, # plummer scale radius\n",
    "    distance = 55 * u.Mpc,    # distance to system\n",
    "    xy_dim = (201, 201),      # xy dimensions of image\n",
    "    pixel_scale = 0.2,        # pixel scale in pixel/arcsec\n",
    "    random_state = rng        # random state for reproducibility\n",
    ")\n",
    "\n",
    "xy = artpop.plummer_xy(**kws)\n",
    "\n",
    "plt.plot(xy[:, 0], xy[:, 1], 'o', ms=1)\n",
    "plt.gca().set(xlim=(0, 200), ylim=(0, 200), aspect='equal', \n",
    "              xlabel='$x$ [pixel]', ylabel='$y$ [pixel]');"
   ]
  },
  {
   "cell_type": "markdown",
   "metadata": {},
   "source": [
    "The sampled positions are returned as a [NumPy Masked Array](https://numpy.org/doc/stable/reference/maskedarray.baseclass.html#numpy.ma.MaskedArray), ``xy``, where positions that are outside the image, based on the ``xy_dim`` parameter, are masked.\n",
    "\n",
    "If there are any stars outside the image, a warning will be printed. Let's move the system to a much closer distance so that we'll have some stars outside the image:"
   ]
  },
  {
   "cell_type": "code",
   "execution_count": null,
   "metadata": {},
   "outputs": [],
   "source": [
    "kws['distance'] = 2 * u.Mpc\n",
    "\n",
    "xy = artpop.plummer_xy(**kws)\n",
    "\n",
    "plt.plot(xy[:, 0], xy[:, 1], 'o', ms=1, alpha=0.1)\n",
    "plt.gca().set(xlim=(0, 200), ylim=(0, 200), aspect='equal', \n",
    "              xlabel='$x$ [pixel]', ylabel='$y$ [pixel]');"
   ]
  },
  {
   "cell_type": "markdown",
   "metadata": {},
   "source": [
    "## The Sersic Distribution\n",
    "\n",
    "The Sersic distribution is sampled within a discrete grid using [NumPy's choice function](https://docs.scipy.org/doc//numpy-1.10.4/reference/generated/numpy.random.choice.html). The ``num_r_eff`` parameter is used to set the number of effective radii within the discrete grid. You want this number to be large enough to ensure that you don't oversample small radii, but keep in mind that it is using a discrete grid, which requires more and more memory as ``num_r_eff`` increases.\n",
    "\n",
    "Use the [sersic_xy](https://artpop.readthedocs.io/en/latest/api/artpop.space.sersic_xy.html#artpop.space.sersic_xy) function to sample positions from a Sersic distribution:"
   ]
  },
  {
   "cell_type": "code",
   "execution_count": null,
   "metadata": {},
   "outputs": [],
   "source": [
    "# note that all parameters with units can also be given \n",
    "# as floats, in which case a default unit (see doc string) \n",
    "# is assumed. e.g., r_eff will be assumed to be in kpc\n",
    "xy = artpop.sersic_xy(\n",
    "    num_stars = 1e5,     # the number of stars\n",
    "    r_eff = 0.5,         # effective radius (kpc)\n",
    "    n = 0.8,             # Sersic index\n",
    "    theta = 45,          # position angle (deg)\n",
    "    ellip = 0.3,         # ellipticity \n",
    "    distance = 15,       # distance to system (Mpc)\n",
    "    xy_dim = 601,        # xy dimensions of image\n",
    "    pixel_scale = 0.2,   # pixel scale in pixel/arcsec\n",
    "    num_r_eff = 10,      # number of r_eff in discrete grid\n",
    "    random_state = rng   # random state for reproducibility\n",
    ")\n",
    "\n",
    "plt.plot(xy[:, 0], xy[:, 1], 'o', ms=1, alpha=0.1)\n",
    "plt.gca().set(xlim=(0, 600), ylim=(0, 600), aspect='equal', \n",
    "              xlabel='$x$ [pixel]', ylabel='$y$ [pixel]');"
   ]
  },
  {
   "cell_type": "markdown",
   "metadata": {},
   "source": [
    "## Grid Sampling"
   ]
  },
  {
   "cell_type": "markdown",
   "metadata": {},
   "source": [
    "As noted above, **ArtPop** samples from a Sersic distribution using a discrete grid. Grid sampling for arbitrary two-dimensional functions is accessible to the user through the [xy_from_grid](https://artpop.readthedocs.io/en/latest/api/artpop.space.xy_from_grid.html) function. The input function is expected to be an [astropy model](https://docs.astropy.org/en/stable/modeling/predef_models2D.html). Here's an example using the [Ring2D](https://docs.astropy.org/en/stable/api/astropy.modeling.functional_models.Ring2D.html#astropy.modeling.functional_models.Ring2D) model:"
   ]
  },
  {
   "cell_type": "code",
   "execution_count": null,
   "metadata": {},
   "outputs": [],
   "source": [
    "from astropy.modeling.models import Ring2D\n",
    "\n",
    "# initialize an astropy 2D ring model\n",
    "ring = Ring2D(x_0=250, y_0=250, r_in=100, width=50)\n",
    "\n",
    "xy = artpop.xy_from_grid(\n",
    "    num_stars = 1e3,\n",
    "    model = ring,\n",
    "    xy_dim = (501, 501),\n",
    "    random_state = rng\n",
    ")\n",
    "\n",
    "plt.plot(xy[:, 0], xy[:, 1], 'o', ms=1, alpha=0.5)\n",
    "plt.gca().set(xlim=(0, 500), ylim=(0, 500), aspect='equal', \n",
    "              xlabel='$x$ [pixel]', ylabel='$y$ [pixel]');"
   ]
  }
 ],
 "metadata": {
  "kernelspec": {
   "display_name": "Python 3",
   "language": "python",
   "name": "python3"
  },
  "language_info": {
   "codemirror_mode": {
    "name": "ipython",
    "version": 3
   },
   "file_extension": ".py",
   "mimetype": "text/x-python",
   "name": "python",
   "nbconvert_exporter": "python",
   "pygments_lexer": "ipython3",
   "version": "3.6.13"
  }
 },
 "nbformat": 4,
 "nbformat_minor": 4
}
