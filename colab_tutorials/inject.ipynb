{
 "cells": [
  {
   "cell_type": "markdown",
   "metadata": {},
   "source": [
    "# Injecting into Real Images\n",
    "\n",
    "One of **ArtPop**'s most common use cases is generating artificial galaxies and injecting them into real imaging data. In this tutorial, we will walk you through how to do this using imaging data from the invaluable [Legacy Survey](https://www.legacysurvey.org). _HUGE_ thanks to the one and only [Dustin Lang](http://dstn.astrometry.net) for making it so easy to get these data!\n",
    "\n",
    "**Note:** To generate MIST synthetic photometry using **ArtPop**, [MIST isochrone grids](https://artpop.readthedocs.io/en/latest/getting_started/mist.html) are required. The first time you use a MIST grid, **ArtPop** will download it and save it to your `MIST_PATH`. If this environmental variable is not set, the grid(s) will be saved in `~/.artpop/mist`."
   ]
  },
  {
   "cell_type": "markdown",
   "metadata": {},
   "source": [
    "### Install ArtPop and its dependencies"
   ]
  },
  {
   "cell_type": "code",
   "execution_count": null,
   "metadata": {},
   "outputs": [],
   "source": [
    "!pip install artpop"
   ]
  },
  {
   "cell_type": "code",
   "execution_count": null,
   "metadata": {},
   "outputs": [],
   "source": [
    "# Standard library imports\n",
    "from copy import deepcopy\n",
    "from io import BytesIO\n",
    "\n",
    "# Third-party imports \n",
    "import requests\n",
    "import numpy as np\n",
    "import matplotlib.pyplot as plt\n",
    "from astropy import units as u   \n",
    "from astropy.io import fits\n",
    "from astropy.visualization import make_lupton_rgb\n",
    "\n",
    "# Project import\n",
    "import artpop\n",
    "\n",
    "# artpop's matplotlib style\n",
    "plt.style.use(artpop.mpl_style)\n",
    "\n",
    "# use this random state for reproducibility\n",
    "rng = np.random.RandomState(100)"
   ]
  },
  {
   "cell_type": "markdown",
   "metadata": {},
   "source": [
    "## Fetch Data\n",
    "\n",
    "First, we define two simple functions that use the [standard io](https://docs.python.org/3/library/io.html) and [requests](https://requests.readthedocs.io/en/master/) library to fetch $grz$ coadds and point spread functions (PSFs) from the [Legacy Survey](https://www.legacysurvey.org):"
   ]
  },
  {
   "cell_type": "code",
   "execution_count": null,
   "metadata": {},
   "outputs": [],
   "source": [
    "url_prefix = 'https://www.legacysurvey.org/viewer/'\n",
    "\n",
    "def fetch_psf(ra, dec):\n",
    "    \"\"\"\n",
    "    Returns PSFs in dictionary with keys 'g', 'r', and 'z'.\n",
    "    \"\"\"\n",
    "    url = url_prefix + f'coadd-psf/?ra={ra}&dec={dec}&layer=dr8&bands=grz'\n",
    "    session = requests.Session()\n",
    "    resp = session.get(url)\n",
    "    hdulist = fits.open(BytesIO(resp.content))\n",
    "    psf = {'grz'[i]: hdulist[i].data for i in range(3)}\n",
    "    return psf\n",
    "\n",
    "def fetch_coadd(ra, dec):\n",
    "    \"\"\"\n",
    "    Returns coadds in dictionary with keys 'g', 'r', and 'z'.\n",
    "    \"\"\"\n",
    "    url = url_prefix + f'cutout.fits?ra={ra}&dec={dec}&size=900&'\n",
    "    url += 'layer=ls-dr8&pixscale=0.262&bands=grz'\n",
    "    session = requests.Session()\n",
    "    resp = session.get(url)\n",
    "    cutout = fits.getdata(BytesIO(resp.content))\n",
    "    image = {'grz'[i]: cutout[i, :, :] for i in range(3)}\n",
    "    return image"
   ]
  },
  {
   "cell_type": "markdown",
   "metadata": {},
   "source": [
    "Next, we grab data from a relatively empty patch of sky:"
   ]
  },
  {
   "cell_type": "code",
   "execution_count": null,
   "metadata": {},
   "outputs": [],
   "source": [
    "# random coordinates in Legacy Survey footprint\n",
    "ra,dec = 182.5002, 12.5554\n",
    "\n",
    "# grab the model grz PSFs at this location\n",
    "psf = fetch_psf(ra, dec)\n",
    "\n",
    "# grab the grz coadds at this location\n",
    "real_image = fetch_coadd(ra, dec)\n",
    "\n",
    "# see what a RGB image at this location looks like\n",
    "rgb = make_lupton_rgb(real_image['z'], real_image['r'], \n",
    "                      real_image['g'], stretch=0.04)\n",
    "\n",
    "artpop.show_image(rgb);"
   ]
  },
  {
   "cell_type": "markdown",
   "metadata": {},
   "source": [
    "## Initialize Imager\n",
    "\n",
    "The Legacy Survey data we have were observed using [DECam](http://www.ctio.noao.edu/noao/content/dark-energy-camera-decam), so we need to create an imager with this the ``DECam`` photometric system. Here, we will use the [IdealImager](https://artpop.readthedocs.io/en/latest/api/artpop.image.IdealImager.html). This means our artificial source image(s) will have zero noise. If you want to include Poisson noise from the source, use the [ArtImager](https://artpop.readthedocs.io/en/latest/api/artpop.image.ArtImager.html) and set `read_noise = 0` at initialization, `sky_sb = None` when you call the ``observe`` method, and use the same effective aperture diameter and exposure time as the observations. "
   ]
  },
  {
   "cell_type": "code",
   "execution_count": null,
   "metadata": {},
   "outputs": [],
   "source": [
    "# initialize ideal imager\n",
    "imager = artpop.IdealImager()"
   ]
  },
  {
   "cell_type": "markdown",
   "metadata": {},
   "source": [
    "The photometric [zero point](https://www.legacysurvey.org/dr8/description/#photometry) for all bands is 22.5 and the [pixel scale](https://www.legacysurvey.org/dr8/description/#id7) is ${\\sim}0.262$ arcsec / pixel:"
   ]
  },
  {
   "cell_type": "code",
   "execution_count": null,
   "metadata": {},
   "outputs": [],
   "source": [
    "zpt = 22.5\n",
    "pixel_scale = 0.262"
   ]
  },
  {
   "cell_type": "markdown",
   "metadata": {},
   "source": [
    "## Create Artificial Sources\n",
    "\n",
    "Let's create two sources $-$ one dwarf that's young and relatively far away (10 Mpc) and another that's old and nearby (3 Mpc):"
   ]
  },
  {
   "cell_type": "code",
   "execution_count": null,
   "metadata": {},
   "outputs": [],
   "source": [
    "# create young source at 10 Mpc\n",
    "src_young_far = artpop.MISTPlummerSSP(\n",
    "    log_age = 8.5,              # log of age in years\n",
    "    feh = -1,                   # metallicity [Fe/H]\n",
    "    scale_radius = 300 * u.pc,  # effective radius\n",
    "    total_mass = 1e6,           # total mass\n",
    "    phot_system = 'DECam',      # photometric system\n",
    "    distance = 10 * u.Mpc,      # distance to system\n",
    "    xy_dim = 801,               # image dimension\n",
    "    pixel_scale = pixel_scale,  # pixel scale in arcsec / pixel\n",
    "    random_state = rng,         # random state for reproducibility\n",
    ")\n",
    "\n",
    "# create old source at 3 Mpc\n",
    "src_old_near = artpop.MISTSersicSSP(\n",
    "    log_age = 10.0,            # log of age in years\n",
    "    feh = -1.5,                # metallicity [Fe/H]\n",
    "    r_eff = 300 * u.pc,        # effective radius\n",
    "    n = 0.7,                   # Sersic index\n",
    "    theta = 135 * u.deg,       # position angle\n",
    "    ellip = 0.3,               # ellipticity\n",
    "    num_stars = 5e6,           # number of stars\n",
    "    phot_system = 'DECam',     # photometric system \n",
    "    distance = 3 * u.Mpc,      # distance to system \n",
    "    xy_dim = 701,              # image dimension\n",
    "    pixel_scale = pixel_scale, # pixel scale in arcsec / pixel\n",
    "    random_state = rng,        # random state for reproducibility\n",
    ")"
   ]
  },
  {
   "cell_type": "markdown",
   "metadata": {},
   "source": [
    "## Inject into Real Image\n",
    "\n",
    "Use the ``imager`` to mock observe our sources:"
   ]
  },
  {
   "cell_type": "code",
   "execution_count": null,
   "metadata": {},
   "outputs": [],
   "source": [
    "# create image dictionaries with keys 'g', 'r', and 'z'\n",
    "img_young = {}\n",
    "img_old = {}\n",
    "for b in 'grz':\n",
    "    # mock observe young source\n",
    "    img_young[b] = imager.observe(src_young_far, \n",
    "                                  bandpass=f'DECam_{b}', \n",
    "                                  psf=psf[b], \n",
    "                                  zpt=zpt).image\n",
    "    \n",
    "    # mock observe old source\n",
    "    img_old[b] = imager.observe(src_old_near, \n",
    "                                bandpass=f'DECam_{b}', \n",
    "                                psf=psf[b], \n",
    "                                zpt=zpt).image"
   ]
  },
  {
   "cell_type": "markdown",
   "metadata": {},
   "source": [
    "The [embed_slices](https://artpop.readthedocs.io/en/latest/api/artpop.util.embed_slices.html) function is useful when you want to inject a mock source into a real image with a different size and/or at a particular location."
   ]
  },
  {
   "cell_type": "code",
   "execution_count": null,
   "metadata": {},
   "outputs": [],
   "source": [
    "# work on deep copy in case we want to make adjustments\n",
    "mock_image = deepcopy(real_image)\n",
    "\n",
    "# get slices to inject young source at (600, 700)\n",
    "img_slice, arr_slice = artpop.util.embed_slices((600, 700), \n",
    "                                                img_young['g'].shape, \n",
    "                                                real_image['g'].shape)\n",
    "# inject young source into image\n",
    "for b in 'grz':\n",
    "    mock_image[b][img_slice] += img_young[b][arr_slice]\n",
    "    \n",
    "# get slices to inject old source at (300, 350)\n",
    "img_slice, arr_slice = artpop.util.embed_slices((300, 350), \n",
    "                                                img_old['g'].shape, \n",
    "                                                real_image['g'].shape)\n",
    "# inject old source into image\n",
    "for b in 'grz':\n",
    "    mock_image[b][img_slice] += img_old[b][arr_slice]"
   ]
  },
  {
   "cell_type": "markdown",
   "metadata": {},
   "source": [
    "Let's compare the original RGB image with the new one with artificial sources:"
   ]
  },
  {
   "cell_type": "code",
   "execution_count": null,
   "metadata": {},
   "outputs": [],
   "source": [
    "fig, ax = plt.subplots(2, 1, figsize=(12, 12),\n",
    "                       constrained_layout=True,\n",
    "                       subplot_kw=dict(xticks=[], yticks=[], aspect='equal'))\n",
    "\n",
    "\n",
    "ax[0].set_title('Original Image')\n",
    "artpop.show_image(rgb, subplots=(fig, ax[0]));\n",
    "\n",
    "ax[1].set_title('Image with Artificial Sources')\n",
    "mock_rgb = make_lupton_rgb(mock_image['z'], mock_image['r'], \n",
    "                           mock_image['g'], stretch=0.04)\n",
    "\n",
    "artpop.show_image(mock_rgb, subplots=(fig, ax[1]));"
   ]
  }
 ],
 "metadata": {
  "kernelspec": {
   "display_name": "Python 3",
   "language": "python",
   "name": "python3"
  },
  "language_info": {
   "codemirror_mode": {
    "name": "ipython",
    "version": 3
   },
   "file_extension": ".py",
   "mimetype": "text/x-python",
   "name": "python",
   "nbconvert_exporter": "python",
   "pygments_lexer": "ipython3",
   "version": "3.6.13"
  }
 },
 "nbformat": 4,
 "nbformat_minor": 4
}
