{
 "cells": [
  {
   "cell_type": "markdown",
   "metadata": {},
   "source": [
    "# Building Stellar Populations\n",
    "\n",
    "In this tutorial, we demonstrate **ArtPop**’s built-in stellar population synthesis capability. Because of the modular design of the code, it is possible to build stellar populations independently from generating mock images. This is useful, for example, when you are only interested in calculating integrated photometric properties of the population. \n",
    "\n",
    "**Note:** To generate MIST synthetic photometry using **ArtPop**, [MIST isochrone grids](https://artpop.readthedocs.io/en/latest/getting_started/mist.html) are required. The first time you use a MIST grid, **ArtPop** will download it and save it to your `MIST_PATH`. If this environment variable is not set, the grid(s) will be saved in `~/.artpop/mist`."
   ]
  },
  {
   "cell_type": "markdown",
   "metadata": {},
   "source": [
    "### Install ArtPop and its dependencies"
   ]
  },
  {
   "cell_type": "code",
   "execution_count": null,
   "metadata": {},
   "outputs": [],
   "source": [
    "!pip install artpop"
   ]
  },
  {
   "cell_type": "code",
   "execution_count": null,
   "metadata": {},
   "outputs": [],
   "source": [
    "# Third-party imports \n",
    "import numpy as np\n",
    "import matplotlib.pyplot as plt\n",
    "from astropy import units as u   \n",
    "\n",
    "# Project import\n",
    "import artpop\n",
    "\n",
    "# artpop's matplotlib style\n",
    "plt.style.use(artpop.mpl_style)\n",
    "\n",
    "# use this random state for reproducibility\n",
    "rng = np.random.RandomState(112)"
   ]
  },
  {
   "cell_type": "markdown",
   "metadata": {},
   "source": [
    "## Simple Stellar Population (SSP)\n",
    "\n",
    "In **ArtPop**, the basic stellar population unit is the simple stellar population (SSP), which is a population of stars of a single age and metallicity. To synthesize an SSP, **ArtPop** samples stellar masses from a user-specified initial mass function (``imf``) and generates stellar magnitudes by interpolating synthetic photometry from an isochrone model.\n",
    "\n",
    "Here, we will use the MIST isochrone models using **ArtPop**'s built-in tools for fetching MIST synthetic photometry grids. To generate an SSP using MIST, we use the ``MISTSSP`` class:"
   ]
  },
  {
   "cell_type": "code",
   "execution_count": null,
   "metadata": {},
   "outputs": [],
   "source": [
    "ssp = artpop.MISTSSP(\n",
    "    log_age = 9,          # log of age in years\n",
    "    feh = -1,             # metallicity [Fe/H]\n",
    "    phot_system = 'LSST', # photometric system(s)\n",
    "    num_stars = 1e5,      # number of stars\n",
    "    imf = 'kroupa',       # default imf\n",
    "    random_state = rng,   # random state for reproducibility\n",
    ")"
   ]
  },
  {
   "cell_type": "markdown",
   "metadata": {},
   "source": [
    "This generates a population of 10$^5$ stars of age 1 Gyr and metallicity [Fe/H] = -1 (a tenth the solar value). With ``phot_system = 'LSST'``, stellar magnitudes in the LSST _ugrizy_ photometric system are interpolated and stored in the ``ssp`` object. It is also possible to pass a list of photometric systems, e.g. ``['LSST', 'SDSSugriz']``, in which case magnitudes in both systems are interpolated and stored.\n",
    "\n",
    "For reference, the supported MIST photometric system names are stored in the variable ``phot_system_list``: "
   ]
  },
  {
   "cell_type": "code",
   "execution_count": null,
   "metadata": {},
   "outputs": [],
   "source": [
    "artpop.phot_system_list"
   ]
  },
  {
   "cell_type": "markdown",
   "metadata": {},
   "source": [
    "The filter names for a given photometric system may be recovered using the ``get_filter_names`` function:"
   ]
  },
  {
   "cell_type": "code",
   "execution_count": null,
   "metadata": {},
   "outputs": [],
   "source": [
    "artpop.get_filter_names('LSST')"
   ]
  },
  {
   "cell_type": "markdown",
   "metadata": {},
   "source": [
    "Using the ``log_Teff`` and ``log_L`` attributes of ``ssp``, the HR-diagram for the population may be plotted like this:"
   ]
  },
  {
   "cell_type": "code",
   "execution_count": null,
   "metadata": {},
   "outputs": [],
   "source": [
    "plt.plot(ssp.log_Teff, ssp.log_L, 'o', c='tab:red', mec='k')\n",
    "plt.gca().invert_xaxis()\n",
    "plt.minorticks_on()\n",
    "plt.xlabel(r'$\\log(\\mathrm{T_{eff}/K})$')\n",
    "plt.ylabel(r'$\\log(\\mathrm{L/L_\\odot})$');"
   ]
  },
  {
   "cell_type": "markdown",
   "metadata": {},
   "source": [
    "### Integrated Properties\n",
    "\n",
    "There are several methods for calculating integrated photometric properties of the population:"
   ]
  },
  {
   "cell_type": "code",
   "execution_count": null,
   "metadata": {},
   "outputs": [],
   "source": [
    "print(f\"M_i   = {ssp.total_mag('LSST_i'): .2f}\")\n",
    "print(f\"SBF_i = {ssp.sbf_mag('LSST_i'): .2f}\")\n",
    "print(f\"g - i = {ssp.integrated_color('LSST_g', 'LSST_i'): .2f}\")"
   ]
  },
  {
   "cell_type": "markdown",
   "metadata": {},
   "source": [
    "Note the returned magnitudes are in absolute units. This is because by default the SSP is assumed to be at 10 pc. To change the distance, you can either pass ``distance`` as an argument when you initialize ``SSP``, or you can use the ``set_distance`` method:  "
   ]
  },
  {
   "cell_type": "code",
   "execution_count": null,
   "metadata": {},
   "outputs": [],
   "source": [
    "# the distance can be given as a float or an astropy unit\n",
    "distance = 10 * u.kpc \n",
    "ssp.set_distance(distance)\n",
    "print(f'D = {distance:.0f}\\n--------------')\n",
    "print(f\"m_i   = {ssp.total_mag('LSST_i'): .2f}\")\n",
    "print(f\"sbf_i = {ssp.sbf_mag('LSST_i'): .2f}\")\n",
    "print(f\"g - i = {ssp.integrated_color('LSST_g', 'LSST_i'): .2f}\")\n",
    "\n",
    "\n",
    "# if a float is given, the unit is assumed to be Mpc\n",
    "distance = 10\n",
    "ssp.set_distance(distance)\n",
    "print(f'\\nD = {distance} Mpc\\n--------------')\n",
    "print(f\"m_i   = {ssp.total_mag('LSST_i'): .2f}\")\n",
    "print(f\"sbf_i = {ssp.sbf_mag('LSST_i'): .2f}\")\n",
    "print(f\"g - i = {ssp.integrated_color('LSST_g', 'LSST_i'): .2f}\")"
   ]
  },
  {
   "cell_type": "code",
   "execution_count": null,
   "metadata": {},
   "outputs": [],
   "source": [
    "# the distance and distance modulus are attributes\n",
    "print(f'D = {ssp.distance}, m - M = {ssp.dist_mod}')"
   ]
  },
  {
   "cell_type": "markdown",
   "metadata": {},
   "source": [
    "### Phase Masks"
   ]
  },
  {
   "cell_type": "markdown",
   "metadata": {},
   "source": [
    "When using MIST SSPs, **ArtPop** uses the [Primary Equivalent Evolutionary Points (EEPs)](https://ui.adsabs.harvard.edu/abs/2016ApJS..222....8D/abstract) to identify the phase of stellar evolution of each star in the population. Use the ``select_phase`` method to generate a boolean mask that is set to ``True`` for stars in the given phase. "
   ]
  },
  {
   "cell_type": "code",
   "execution_count": null,
   "metadata": {},
   "outputs": [],
   "source": [
    "# available phases\n",
    "ssp.phases"
   ]
  },
  {
   "cell_type": "markdown",
   "metadata": {},
   "source": [
    "Let's plot the HR-diagram with different colors for the main sequence (MS), red giant branch (RGB), and asymptotic giant branch (note that here the subgiant branch is included in the RGB):"
   ]
  },
  {
   "cell_type": "code",
   "execution_count": null,
   "metadata": {},
   "outputs": [],
   "source": [
    "# generate boolean phase masks\n",
    "MS = ssp.select_phase('MS')\n",
    "RGB = ssp.select_phase('RGB')\n",
    "AGB = ssp.select_phase('AGB')\n",
    "\n",
    "plt.plot(ssp.log_Teff[MS], ssp.log_L[MS], 'o', \n",
    "         label='MS', c='tab:blue', mec='k')\n",
    "plt.plot(ssp.log_Teff[RGB], ssp.log_L[RGB], 'o', \n",
    "         label='RGB + subgiant branch', \n",
    "         c='tab:green', mec='k')\n",
    "plt.plot(ssp.log_Teff[AGB], ssp.log_L[AGB], 'o', \n",
    "         label='AGB', c='tab:red', mec='k')\n",
    "\n",
    "plt.legend(loc='lower left')\n",
    "plt.gca().invert_xaxis()\n",
    "plt.minorticks_on()\n",
    "plt.xlabel(r'$\\log(\\mathrm{T_{eff}/K})$')\n",
    "plt.ylabel(r'$\\log(\\mathrm{L/L_\\odot})$');"
   ]
  },
  {
   "cell_type": "markdown",
   "metadata": {},
   "source": [
    "Check out the [SSP](https://artpop.readthedocs.io/en/latest/api/artpop.stars.SSP.html) API (or use tab complete) to see the full list of attributes and methods that are available."
   ]
  },
  {
   "cell_type": "markdown",
   "metadata": {},
   "source": [
    "### Sampling an IMF\n",
    "\n",
    "As noted above, **ArtPop** is modular, which means all of its components can be used independently. For example, here we sample stellar masses from the [Kroupa initial mass function](https://ui.adsabs.harvard.edu/abs/2001MNRAS.322..231K/abstract):"
   ]
  },
  {
   "cell_type": "code",
   "execution_count": null,
   "metadata": {},
   "outputs": [],
   "source": [
    "# sample the Kroupa IMF\n",
    "m_min = 0.08 # minimum mass\n",
    "m_max = 5.0  # maximum mass\n",
    "sampled_masses = artpop.sample_imf(1e6, imf='kroupa', \n",
    "                                   m_min=m_min, m_max=m_max, \n",
    "                                   random_state=rng)\n",
    "\n",
    "# plot histogram of sampled masses\n",
    "plt.hist(sampled_masses, bins='auto', color='lightgray', \n",
    "         density=True, label='sampled masses')\n",
    "\n",
    "# plot the analytic Kroupa and Salpeter IMFs for comparison\n",
    "mass_grid = np.logspace(np.log10(m_min), np.log10(m_max), 1000)\n",
    "plt.loglog(mass_grid, artpop.kroupa(mass_grid, norm_type='number'), \n",
    "           c='tomato', lw=3, label='Kroupa IMF')\n",
    "plt.loglog(mass_grid, artpop.salpeter(mass_grid, norm_type='number'), \n",
    "           c='tab:blue', lw=3, label='Salpeter IMF')\n",
    "\n",
    "plt.legend()\n",
    "plt.xlabel('M/M$_\\odot$')\n",
    "plt.ylabel('dN/dM');"
   ]
  },
  {
   "cell_type": "markdown",
   "metadata": {},
   "source": [
    "## Composite Stellar Populations\n",
    "\n",
    "In **ArtPop**, building composite stellar populations (CSPs) composed of two or more SSPs is as simple adding together ``SSP`` objects. In this example, we'll create three SSPs $-$ an old, intermediate-age, and young population, which we will combine into a composite population."
   ]
  },
  {
   "cell_type": "code",
   "execution_count": null,
   "metadata": {},
   "outputs": [],
   "source": [
    "ssp_old = artpop.MISTSSP(\n",
    "    log_age = 10.1,       # log of age in years\n",
    "    feh = -1.5,           # metallicity [Fe/H]\n",
    "    phot_system = 'LSST', # photometric system(s)\n",
    "    num_stars = 5e5,      # number of stars\n",
    "    random_state = rng,   # random state for reproducibility\n",
    ")\n",
    "\n",
    "ssp_intermediate = artpop.MISTSSP(\n",
    "    log_age = 9.5,        # log of age in years\n",
    "    feh = -1,             # metallicity [Fe/H]\n",
    "    phot_system = 'LSST', # photometric system(s)\n",
    "    num_stars = 1e5,      # number of stars\n",
    "    random_state = rng,   # random state for reproducibility\n",
    ")\n",
    "\n",
    "ssp_young = artpop.MISTSSP(\n",
    "    log_age = 8.5,        # log of age in years\n",
    "    feh = 0,              # metallicity [Fe/H]\n",
    "    phot_system = 'LSST', # photometric system(s)\n",
    "    num_stars = 1e4,      # number of stars\n",
    "    random_state = rng,   # random state for reproducibility\n",
    ")"
   ]
  },
  {
   "cell_type": "markdown",
   "metadata": {},
   "source": [
    "We then intuitively combine the SSPs using the `+` operator:"
   ]
  },
  {
   "cell_type": "code",
   "execution_count": null,
   "metadata": {},
   "outputs": [],
   "source": [
    "csp = ssp_old + ssp_intermediate + ssp_young\n",
    "print(type(csp))"
   ]
  },
  {
   "cell_type": "markdown",
   "metadata": {},
   "source": [
    "All of the ``SSP`` attributes and methods are available to `CSP` objects. Let's use the `star_mags` method to plot a color magnitude diagram for the CSP:"
   ]
  },
  {
   "cell_type": "code",
   "execution_count": null,
   "metadata": {},
   "outputs": [],
   "source": [
    "i = csp.star_mags('LSST_i')\n",
    "g = csp.star_mags('LSST_g')\n",
    "plt.plot(g-i, i, 'o', c='blueviolet', mec='k')\n",
    "plt.gca().invert_yaxis()\n",
    "\n",
    "plt.xlabel(r'$g-i$')\n",
    "plt.ylabel(r'M$_i$');"
   ]
  },
  {
   "cell_type": "markdown",
   "metadata": {},
   "source": [
    "Each SSP is labeled (1, 2, 3, etc.) from left to right in the ``csp`` definition. You can isolate each population like this:"
   ]
  },
  {
   "cell_type": "code",
   "execution_count": null,
   "metadata": {},
   "outputs": [],
   "source": [
    "old = csp.ssp_labels == 1\n",
    "med = csp.ssp_labels == 2\n",
    "young = csp.ssp_labels == 3\n",
    "\n",
    "plt.plot(g[old] - i[old], i[old], 'o', \n",
    "         c='tab:red', mec='k', label='old')\n",
    "plt.plot(g[med] - i[med], i[med], 'o', \n",
    "         c='tab:green', mec='k', label='intermediate')\n",
    "plt.plot(g[young] - i[young], i[young], 'o', \n",
    "         c='tab:blue', mec='k', label='young')\n",
    "\n",
    "plt.legend(loc='center right')\n",
    "plt.minorticks_on()\n",
    "plt.gca().invert_yaxis()\n",
    "plt.xlabel(r'$g-i$')\n",
    "plt.ylabel(r'M$_i$');"
   ]
  }
 ],
 "metadata": {
  "kernelspec": {
   "display_name": "Python 3",
   "language": "python",
   "name": "python3"
  },
  "language_info": {
   "codemirror_mode": {
    "name": "ipython",
    "version": 3
   },
   "file_extension": ".py",
   "mimetype": "text/x-python",
   "name": "python",
   "nbconvert_exporter": "python",
   "pygments_lexer": "ipython3",
   "version": "3.6.13"
  }
 },
 "nbformat": 4,
 "nbformat_minor": 4
}
