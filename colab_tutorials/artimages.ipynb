{
 "cells": [
  {
   "cell_type": "markdown",
   "metadata": {},
   "source": [
    "# Making Artificial Images\n",
    "\n",
    "Once you have created a [Source](https://artpop.readthedocs.io/en/latest/api/artpop.source.Source.html) object, you are ready to use **ArtPop** to \"observe\" it and make an artificial image. Mock observations in **ArtPop** are carried out using ``Imager`` objects, which are the topic of this tutorial. \n",
    "\n",
    "**Note:** To generate MIST synthetic photometry using **ArtPop**, [MIST isochrone grids](https://artpop.readthedocs.io/en/latest/getting_started/mist.html) are required. The first time you use a MIST grid, **ArtPop** will download it and save it to your `MIST_PATH`. If this environmental variable is not set, the grid(s) will be saved in `~/.artpop/mist`."
   ]
  },
  {
   "cell_type": "markdown",
   "metadata": {},
   "source": [
    "### Install ArtPop and its dependencies"
   ]
  },
  {
   "cell_type": "code",
   "execution_count": null,
   "metadata": {},
   "outputs": [],
   "source": [
    "!pip install artpop"
   ]
  },
  {
   "cell_type": "code",
   "execution_count": null,
   "metadata": {},
   "outputs": [],
   "source": [
    "# Third-party imports \n",
    "import numpy as np\n",
    "import matplotlib.pyplot as plt\n",
    "from astropy import units as u   \n",
    "from astropy.visualization import make_lupton_rgb\n",
    "\n",
    "# Project import\n",
    "import artpop\n",
    "\n",
    "# artpop's matplotlib style\n",
    "plt.style.use(artpop.mpl_style)\n",
    "\n",
    "# use this random state for reproducibility\n",
    "rng = np.random.RandomState(14)"
   ]
  },
  {
   "cell_type": "markdown",
   "metadata": {},
   "source": [
    "## IdealImager\n",
    "\n",
    "The [IdealImager](https://artpop.readthedocs.io/en/latest/api/artpop.image.IdealImager.html) is an imager object for creating noiseless images. \n",
    "\n",
    "First, we need to create a ``Source`` to observe. In this tutorial, we'll simulate an SSP with a Sersic spatial distribution using the helper [MISTSersicSSP](https://artpop.readthedocs.io/en/latest/api/artpop.source.MISTSersicSSP.html#artpop.source.MISTSersicSSP) class:"
   ]
  },
  {
   "cell_type": "code",
   "execution_count": null,
   "metadata": {},
   "outputs": [],
   "source": [
    "src = artpop.MISTSersicSSP(\n",
    "    log_age = 10,         # log of age in years\n",
    "    feh = -1.5,           # metallicity [Fe/H]\n",
    "    r_eff = 300 * u.pc,   # effective radius\n",
    "    n = 0.8,              # Sersic index\n",
    "    theta = 45 * u.deg,   # position angle\n",
    "    ellip = 0.3,          # ellipticity\n",
    "    num_stars = 5e6,      # number of stars\n",
    "    phot_system = 'LSST', # photometric system \n",
    "    distance = 5 * u.Mpc, # distance to system \n",
    "    xy_dim = 651,         # image dimension\n",
    "    pixel_scale = 0.2,    # pixel scale in arcsec / pixel  \n",
    "    random_state = rng    # random state for reproducibility\n",
    ")"
   ]
  },
  {
   "cell_type": "markdown",
   "metadata": {},
   "source": [
    "Next, we initialize an `IdealImager`with the photometric system name(s) and generate a Moffat point spread function (PSF) using the [moffat_psf](https://artpop.readthedocs.io/en/latest/api/artpop.image.moffat_psf.html) function. Note the PSF is given as an [ndarray](https://numpy.org/doc/stable/reference/generated/numpy.ndarray.html#numpy.ndarray), which makes it possible to use an observed PSF if you have one. "
   ]
  },
  {
   "cell_type": "code",
   "execution_count": null,
   "metadata": {},
   "outputs": [],
   "source": [
    "# initialize IdealImager with the LSST phot_system\n",
    "imager = artpop.IdealImager()\n",
    "\n",
    "# create PSF with 0.7'' seeing\n",
    "psf = artpop.moffat_psf(fwhm=0.7*u.arcsec)\n",
    "\n",
    "# display PSF using ArtPop's show_image function\n",
    "artpop.show_image(psf, figsize=(6, 6), cmap='magma');"
   ]
  },
  {
   "cell_type": "markdown",
   "metadata": {},
   "source": [
    "Finally, we create a synthetic $i$-band observation using the ``IdealImager``'s [observe](https://artpop.readthedocs.io/en/latest/api/artpop.image.IdealImager.html#artpop.image.IdealImager.observe) method. The returned observation ``obs`` is an [IdealObservation](https://artpop.readthedocs.io/en/latest/api/artpop.image.IdealObservation.html#artpop.image.IdealObservation) object with attributes ``image`` (the mock image pixels), ``zpt`` (the zero point), and ``bandpass``. "
   ]
  },
  {
   "cell_type": "code",
   "execution_count": null,
   "metadata": {},
   "outputs": [],
   "source": [
    "# mock observe the source\n",
    "obs = imager.observe(src, bandpass='LSST_i', psf=psf, zpt=27)"
   ]
  },
  {
   "cell_type": "markdown",
   "metadata": {},
   "source": [
    "Here's the image displayed using the ArtPop's [show_image](../api/artpop.visualization.show_image.rst) function:"
   ]
  },
  {
   "cell_type": "code",
   "execution_count": null,
   "metadata": {},
   "outputs": [],
   "source": [
    "artpop.show_image(obs.image);"
   ]
  },
  {
   "cell_type": "markdown",
   "metadata": {},
   "source": [
    "## ArtImager\n",
    "\n",
    "The **Art**ificial **Imager**, [ArtImager](../api/artpop.image.ArtImager.rst), is an imager that creates fully artificial images with realistic noise. In order to calculate the noise, parameters about the instrument, exposure time, and sky surface brightness are required. \n",
    "\n",
    "Here we create an ``ArtImager`` object with parameters similar to what is expected for LSST and the Rubin Observatory:"
   ]
  },
  {
   "cell_type": "code",
   "execution_count": null,
   "metadata": {},
   "outputs": [],
   "source": [
    "imager = artpop.ArtImager(\n",
    "    phot_system = 'LSST', # photometric system\n",
    "    diameter = 6.4 * u.m, # effective aperture diameter\n",
    "    read_noise = 4,       # read noise in electrons\n",
    "    random_state = rng    # random state for reproducibility \n",
    ")"
   ]
  },
  {
   "cell_type": "markdown",
   "metadata": {},
   "source": [
    "Similar to the ``IdealImager``, we create a mock observation using the ``ArtImager``'s [observe](../api/artpop.image.ArtImager.rst#artpop.image.ArtImager.observe) method. The difference is that in this case, we must also provide the exposure time and sky surface brightness. Let's observe the same source as above with a sky that's similar to dark time at Cerro Pachon ([Abbott et al. 2018](https://ui.adsabs.harvard.edu/abs/2018ApJS..239...18A/abstract)):"
   ]
  },
  {
   "cell_type": "code",
   "execution_count": null,
   "metadata": {},
   "outputs": [],
   "source": [
    "# observe in gri (assuming the same seeing in all bands)\n",
    "obs_g = imager.observe(src, 'LSST_g', 30 * u.min, sky_sb=22, psf=psf)\n",
    "obs_r = imager.observe(src, 'LSST_r', 30 * u.min, sky_sb=21, psf=psf)\n",
    "obs_i = imager.observe(src, 'LSST_i', 1 * u.hr, sky_sb=20, psf=psf)"
   ]
  },
  {
   "cell_type": "markdown",
   "metadata": {},
   "source": [
    "To make a pretty picture, we'll use astropy's [make_lupton_rgb](https://docs.astropy.org/en/stable/api/astropy.visualization.make_lupton_rgb.html) function:"
   ]
  },
  {
   "cell_type": "code",
   "execution_count": null,
   "metadata": {},
   "outputs": [],
   "source": [
    "rgb = make_lupton_rgb(obs_i.image, obs_r.image, obs_g.image, stretch=0.4)\n",
    "\n",
    "artpop.show_image(rgb);"
   ]
  }
 ],
 "metadata": {
  "kernelspec": {
   "display_name": "Python 3",
   "language": "python",
   "name": "python3"
  },
  "language_info": {
   "codemirror_mode": {
    "name": "ipython",
    "version": 3
   },
   "file_extension": ".py",
   "mimetype": "text/x-python",
   "name": "python",
   "nbconvert_exporter": "python",
   "pygments_lexer": "ipython3",
   "version": "3.6.13"
  }
 },
 "nbformat": 4,
 "nbformat_minor": 4
}
